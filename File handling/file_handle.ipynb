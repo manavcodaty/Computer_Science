{
 "cells": [
  {
   "cell_type": "code",
   "execution_count": null,
   "metadata": {},
   "outputs": [],
   "source": [
    "choice  = input(\"Do you want to append data to the file? (1/-1), (y/n)): \")\n",
    "while choice != -1:\n",
    "    msg = input(\"Enter the message to append: \")\n",
    "    file = open(\"hello_world.txt\", \"a\")\n",
    "    file.write(msg+\"\\n\")\n",
    "    print(\"Data appended successfully\")\n",
    "    file = open(\"hello_world.txt\", \"r\")\n",
    "    content = file.read()\n",
    "    print(content)\n",
    "    file.close()\n",
    "    choice = input(\"Do you want to append data to the file? (1/-1), (y/n): \")"
   ]
  },
  {
   "cell_type": "code",
   "execution_count": null,
   "metadata": {},
   "outputs": [],
   "source": [
    "def main(choice):\n",
    "    while choice != -1:\n",
    "        msg = input(\"Enter the message to append: \")\n",
    "        file = open(\"hello_world.txt\", \"w\")\n",
    "        file.write(msg)\n",
    "        print(\"Data appended successfully\")\n",
    "        file = open(\"hello_world.txt\", \"r\")\n",
    "        content = file.read()\n",
    "        print(content)\n",
    "        file.close()\n",
    "        main(choice)\n",
    "\n",
    "\n",
    "    \n",
    "choice = input(\"Do you want to append data to the file? (1/-1), (y/n)): \")\n",
    "main(choice)"
   ]
  },
  {
   "cell_type": "code",
   "execution_count": null,
   "metadata": {},
   "outputs": [],
   "source": [
    "file = open(\"3a. Task1Data (3).txt\", \"a\")\n",
    "msg = input(\"Enter the message to append: \")\n",
    "file.write(msg)\n",
    "print(\"Data appended successfully\")\n",
    "file = open(\"3a. Task1Data (3).txt\", \"r\")\n",
    "content = file.read()\n",
    "print(content)\n",
    "\n",
    "file.close()"
   ]
  },
  {
   "cell_type": "code",
   "execution_count": null,
   "metadata": {},
   "outputs": [],
   "source": [
    "File_handle = open(\"3a. Task1Data (3).txt\", \"r\")\n",
    "read_line = File_handle.readline()\n",
    "\n",
    "while len(read_line) > 0:\n",
    "    print(read_line)\n",
    "    read_line = File_handle.readline()\n",
    "File_handle.close()"
   ]
  }
 ],
 "metadata": {
  "language_info": {
   "name": "python"
  }
 },
 "nbformat": 4,
 "nbformat_minor": 2
}
