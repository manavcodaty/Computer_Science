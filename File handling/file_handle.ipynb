{
 "cells": [
  {
   "cell_type": "code",
   "execution_count": null,
   "metadata": {},
   "outputs": [],
   "source": [
    "choice  = input(\"Do you want to append data to the file? (1/-1), (y/n)): \")\n",
    "while choice != -1:\n",
    "    msg = input(\"Enter the message to append: \")\n",
    "    file = open(\"hello_world.txt\", \"a\")\n",
    "    file.write(msg+\"\\n\")\n",
    "    print(\"Data appended successfully\")\n",
    "    file = open(\"hello_world.txt\", \"r\")\n",
    "    content = file.read()\n",
    "    print(content)\n",
    "    file.close()\n",
    "    choice = input(\"Do you want to append data to the file? (1/-1), (y/n): \")"
   ]
  },
  {
   "cell_type": "code",
   "execution_count": null,
   "metadata": {},
   "outputs": [],
   "source": [
    "def main(choice):\n",
    "    while choice != -1:\n",
    "        msg = input(\"Enter the message to append: \")\n",
    "        file = open(\"hello_world.txt\", \"w\")\n",
    "        file.write(msg)\n",
    "        print(\"Data appended successfully\")\n",
    "        file = open(\"hello_world.txt\", \"r\")\n",
    "        content = file.read()\n",
    "        print(content)\n",
    "        file.close()\n",
    "        main(choice)\n",
    "\n",
    "\n",
    "    \n",
    "choice = input(\"Do you want to append data to the file? (1/-1), (y/n)): \")\n",
    "main(choice)"
   ]
  },
  {
   "cell_type": "code",
   "execution_count": null,
   "metadata": {},
   "outputs": [],
   "source": [
    "file = open(\"3a. Task1Data (3).txt\", \"a\")\n",
    "msg = input(\"Enter the message to append: \")\n",
    "file.write(msg)\n",
    "print(\"Data appended successfully\")\n",
    "file = open(\"3a. Task1Data (3).txt\", \"r\")\n",
    "content = file.read()\n",
    "print(content)\n",
    "\n",
    "file.close()"
   ]
  },
  {
   "cell_type": "code",
   "execution_count": null,
   "metadata": {},
   "outputs": [],
   "source": [
    "File_handle = open(\"3a. Task1Data (3).txt\", \"r\")\n",
    "read_line = File_handle.readline()\n",
    "\n",
    "while len(read_line) > 0:\n",
    "    print(read_line)\n",
    "    read_line = File_handle.readline()\n",
    "File_handle.close()"
   ]
  },
  {
   "cell_type": "code",
   "execution_count": 6,
   "metadata": {},
   "outputs": [
    {
     "name": "stdout",
     "output_type": "stream",
     "text": [
      "hello Manav\n",
      "\n"
     ]
    }
   ],
   "source": [
    "file = open(\"name.txt\", \"r\")\n",
    "line = file.readline()\n",
    "print(\"hello\", line)\n",
    "file.close()\n"
   ]
  }
 ],
 "metadata": {
  "kernelspec": {
   "display_name": "Python 3",
   "language": "python",
   "name": "python3"
  },
  "language_info": {
   "codemirror_mode": {
    "name": "ipython",
    "version": 3
   },
   "file_extension": ".py",
   "mimetype": "text/x-python",
   "name": "python",
   "nbconvert_exporter": "python",
   "pygments_lexer": "ipython3",
   "version": "3.11.3"
  }
 },
 "nbformat": 4,
 "nbformat_minor": 2
}
