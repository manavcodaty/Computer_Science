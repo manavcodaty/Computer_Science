{
 "cells": [
  {
   "cell_type": "code",
   "execution_count": null,
   "metadata": {},
   "outputs": [],
   "source": [
    "choice  = input(\"Do you want to append data to the file? (1/-1), (y/n)): \")\n",
    "while choice != -1:\n",
    "    msg = input(\"Enter the message to append: \")\n",
    "    file = open(\"hello_world.txt\", \"a\")\n",
    "    file.write(msg+\"\\n\")\n",
    "    print(\"Data appended successfully\")\n",
    "    file = open(\"hello_world.txt\", \"r\")\n",
    "    content = file.read()\n",
    "    print(content)\n",
    "    file.close()\n",
    "    choice = input(\"Do you want to append data to the file? (1/-1), (y/n): \")"
   ]
  },
  {
   "cell_type": "code",
   "execution_count": null,
   "metadata": {},
   "outputs": [],
   "source": [
    "def main(choice):\n",
    "    while choice != -1:\n",
    "        msg = input(\"Enter the message to append: \")\n",
    "        file = open(\"hello_world.txt\", \"w\")\n",
    "        file.write(msg)\n",
    "        print(\"Data appended successfully\")\n",
    "        file = open(\"hello_world.txt\", \"r\")\n",
    "        content = file.read()\n",
    "        print(content)\n",
    "        file.close()\n",
    "        main(choice)\n",
    "\n",
    "\n",
    "    \n",
    "choice = input(\"Do you want to append data to the file? (1/-1), (y/n)): \")\n",
    "main(choice)"
   ]
  },
  {
   "cell_type": "code",
   "execution_count": null,
   "metadata": {},
   "outputs": [],
   "source": [
    "file = open(\"3a. Task1Data (3).txt\", \"a\")\n",
    "msg = input(\"Enter the message to append: \")\n",
    "file.write(msg)\n",
    "print(\"Data appended successfully\")\n",
    "file = open(\"3a. Task1Data (3).txt\", \"r\")\n",
    "content = file.read()\n",
    "print(content)\n",
    "\n",
    "file.close()"
   ]
  },
  {
   "cell_type": "code",
   "execution_count": null,
   "metadata": {},
   "outputs": [],
   "source": [
    "File_handle = open(\"3a. Task1Data (3).txt\", \"r\")\n",
    "read_line = File_handle.readline()\n",
    "\n",
    "while len(read_line) > 0:\n",
    "    print(read_line)\n",
    "    read_line = File_handle.readline()\n",
    "File_handle.close()"
   ]
  },
  {
   "cell_type": "code",
   "execution_count": 6,
   "metadata": {},
   "outputs": [
    {
     "name": "stdout",
     "output_type": "stream",
     "text": [
      "hello Manav\n",
      "\n"
     ]
    }
   ],
   "source": [
    "file = open(\"name.txt\", \"r\")\n",
    "line = file.readline()\n",
    "print(\"hello\", line)\n",
    "file.close()\n"
   ]
  },
  {
   "cell_type": "code",
   "execution_count": 1,
   "metadata": {},
   "outputs": [
    {
     "name": "stdout",
     "output_type": "stream",
     "text": [
      "hello manav\n",
      "would you like to change your name? (y/n)\n",
      "hello harvey\n"
     ]
    }
   ],
   "source": [
    "\n",
    "def print_name():\n",
    "    file = open(\"name.txt\", \"r\")\n",
    "    line = file.readline()\n",
    "    print(\"hello\", line)\n",
    "    file.close()\n",
    "print_name()\n",
    "print(\"would you like to change your name? (y/n)\")\n",
    "choice = input()\n",
    "while choice != \"y\" and choice != \"n\":\n",
    "    print(\"Invalid choice\")\n",
    "    print(\"would you like to change your name? (y/n)\")\n",
    "    choice = input()\n",
    "if choice == \"y\":\n",
    "    file = open(\"name.txt\", \"w\")\n",
    "    new_name = input(\"Enter your new name: \")\n",
    "    if len(new_name) < 20:\n",
    "        file.write(new_name)\n",
    "        file.close()\n",
    "        print_name()\n",
    "    else:\n",
    "        print(\"Name too long\")\n"
   ]
  },
  {
   "cell_type": "code",
   "execution_count": 3,
   "metadata": {},
   "outputs": [
    {
     "name": "stdout",
     "output_type": "stream",
     "text": [
      "Bert.43 \n",
      "\n",
      "Sally.31 \n"
     ]
    }
   ],
   "source": [
    "# Open the file in read mode\n",
    "FileHandle = open(\"score.txt\", \"r\")\n",
    "\n",
    "# Read all lines from the file\n",
    "lines = FileHandle.readlines()\n",
    "\n",
    "# Close the file\n",
    "FileHandle.close()\n",
    "\n",
    "# Open the file in write mode\n",
    "FileHandle = open(\"score.txt\", \"w\")\n",
    "\n",
    "# Process each line\n",
    "for line in lines:\n",
    "    # Replace the \"#\" character with a \".\" character\n",
    "    new_string = line.replace(\"#\", \".\")\n",
    "    # Write the new string to the file\n",
    "    FileHandle.write(new_string)\n",
    "    print(new_string)\n",
    "\n",
    "# Close the file\n",
    "FileHandle.close()"
   ]
  },
  {
   "cell_type": "code",
   "execution_count": 5,
   "metadata": {},
   "outputs": [
    {
     "name": "stdout",
     "output_type": "stream",
     "text": [
      "Bert.43 \n",
      "\n"
     ]
    }
   ],
   "source": [
    "# Open the file in read mode\n",
    "with open(\"score.txt\", \"r\") as FileHandle:\n",
    "    # Read all lines from the file\n",
    "    lines = FileHandle.readlines()\n",
    "\n",
    "# Open the file in write mode\n",
    "with open(\"score.txt\", \"w\") as FileHandle:\n",
    "    # Process each line\n",
    "    for line in lines:\n",
    "        # Replace the \"#\" character with a \".\" character\n",
    "        new_string = line.replace(\"#\", \".\")\n",
    "        # Write the new string to the file\n",
    "        FileHandle.write(new_string)\n",
    "        print(new_string)"
   ]
  },
  {
   "cell_type": "code",
   "execution_count": 9,
   "metadata": {},
   "outputs": [
    {
     "name": "stdout",
     "output_type": "stream",
     "text": [
      "Bert.43 \n",
      "\n",
      "Bert scored 43 \n",
      "% \n",
      "Sally.31 \n",
      "Sally scored 31 % \n"
     ]
    },
    {
     "ename": "IndexError",
     "evalue": "list index out of range",
     "output_type": "error",
     "traceback": [
      "\u001b[1;31m---------------------------------------------------------------------------\u001b[0m",
      "\u001b[1;31mIndexError\u001b[0m                                Traceback (most recent call last)",
      "Cell \u001b[1;32mIn[9], line 25\u001b[0m\n\u001b[0;32m     22\u001b[0m     \u001b[38;5;28mprint\u001b[39m(new_string)\n\u001b[0;32m     23\u001b[0m     \u001b[38;5;28mprint\u001b[39m(\u001b[38;5;124mf\u001b[39m\u001b[38;5;124m\"\u001b[39m\u001b[38;5;132;01m{\u001b[39;00mpercentage_string[\u001b[38;5;241m0\u001b[39m]\u001b[38;5;132;01m}\u001b[39;00m\u001b[38;5;124m scored \u001b[39m\u001b[38;5;132;01m{\u001b[39;00mpercentage_string[\u001b[38;5;241m1\u001b[39m]\u001b[38;5;132;01m}\u001b[39;00m\u001b[38;5;124m% \u001b[39m\u001b[38;5;124m\"\u001b[39m)\n\u001b[1;32m---> 25\u001b[0m average_final \u001b[38;5;241m=\u001b[39m (average[\u001b[38;5;241m0\u001b[39m] \u001b[38;5;241m+\u001b[39m \u001b[43maverage\u001b[49m\u001b[43m[\u001b[49m\u001b[38;5;241;43m1\u001b[39;49m\u001b[43m]\u001b[49m) \u001b[38;5;241m/\u001b[39m \u001b[38;5;241m2\u001b[39m\n\u001b[0;32m     27\u001b[0m \u001b[38;5;66;03m# Close the file\u001b[39;00m\n\u001b[0;32m     28\u001b[0m FileHandle\u001b[38;5;241m.\u001b[39mclose()\n",
      "\u001b[1;31mIndexError\u001b[0m: list index out of range"
     ]
    }
   ],
   "source": [
    "# Open the file in read mode\n",
    "FileHandle = open(\"score.txt\", \"r\")\n",
    "\n",
    "# Read all lines from the file\n",
    "lines = FileHandle.readlines()\n",
    "\n",
    "# Close the file\n",
    "FileHandle.close()\n",
    "\n",
    "# Open the file in write mode\n",
    "FileHandle = open(\"score.txt\", \"w\")\n",
    "\n",
    "# Process each line\n",
    "for line in lines:\n",
    "    # Replace the \"#\" character with a \".\" character\n",
    "    new_string = line.replace(\"#\", \".\")\n",
    "    percentage_string = new_string.split(\".\")\n",
    "    average = []\n",
    "    average.append(percentage_string[1])\n",
    "    # Write the new string to the file\n",
    "    FileHandle.write(new_string)\n",
    "    print(new_string)\n",
    "    print(f\"{percentage_string[0]} scored {percentage_string[1]}% \")\n",
    "    \n",
    "average_final = (average[0] + average[1]) / 2\n",
    "\n",
    "# Close the file\n",
    "FileHandle.close()"
   ]
  },
  {
   "cell_type": "code",
   "execution_count": null,
   "metadata": {},
   "outputs": [],
   "source": []
  }
 ],
 "metadata": {
  "kernelspec": {
   "display_name": "Python 3",
   "language": "python",
   "name": "python3"
  },
  "language_info": {
   "codemirror_mode": {
    "name": "ipython",
    "version": 3
   },
   "file_extension": ".py",
   "mimetype": "text/x-python",
   "name": "python",
   "nbconvert_exporter": "python",
   "pygments_lexer": "ipython3",
   "version": "3.11.3"
  }
 },
 "nbformat": 4,
 "nbformat_minor": 2
}
