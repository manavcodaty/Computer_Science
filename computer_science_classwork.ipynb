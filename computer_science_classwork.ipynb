{
 "cells": [
  {
   "cell_type": "code",
   "execution_count": 11,
   "metadata": {},
   "outputs": [
    {
     "name": "stdout",
     "output_type": "stream",
     "text": [
      "6 is the biggest\n"
     ]
    }
   ],
   "source": [
    "#maximum of 3 numbers\n",
    "num1 = int(input(\"Input first number\"))\n",
    "num2 = int(input(\"Input second number\"))\n",
    "num3 = int(input(\"Input third number\"))\n",
    "\n",
    "\n",
    "if num1 > num2 and num1 > num3:\n",
    "    print(f\"{num1} is the biggest\")\n",
    "elif num2 > num1 and num2 > num3:\n",
    "    print(f\"{num2} is the biggest\")\n",
    "elif num3 > num1 and num3 > num2:\n",
    "    print(f\"{num3} is the biggest\")\n",
    "        \n",
    "    "
   ]
  },
  {
   "cell_type": "code",
   "execution_count": 1,
   "metadata": {},
   "outputs": [
    {
     "ename": "NameError",
     "evalue": "name 'userNum' is not defined",
     "output_type": "error",
     "traceback": [
      "\u001b[0;31m---------------------------------------------------------------------------\u001b[0m",
      "\u001b[0;31mNameError\u001b[0m                                 Traceback (most recent call last)",
      "\u001b[1;32m/Users/manavcodaty/Library/CloudStorage/OneDrive-DubaiEnglishSpeakingSchool&College/Python/computer_science_classwork.ipynb Cell 2\u001b[0m line \u001b[0;36m7\n\u001b[1;32m      <a href='vscode-notebook-cell:/Users/manavcodaty/Library/CloudStorage/OneDrive-DubaiEnglishSpeakingSchool%26College/Python/computer_science_classwork.ipynb#W1sZmlsZQ%3D%3D?line=1'>2</a>\u001b[0m \u001b[39mimport\u001b[39;00m \u001b[39mrandom\u001b[39;00m\n\u001b[1;32m      <a href='vscode-notebook-cell:/Users/manavcodaty/Library/CloudStorage/OneDrive-DubaiEnglishSpeakingSchool%26College/Python/computer_science_classwork.ipynb#W1sZmlsZQ%3D%3D?line=3'>4</a>\u001b[0m targetNum \u001b[39m=\u001b[39m random\u001b[39m.\u001b[39mrandint(\u001b[39m1\u001b[39m,\u001b[39m100\u001b[39m)\n\u001b[0;32m----> <a href='vscode-notebook-cell:/Users/manavcodaty/Library/CloudStorage/OneDrive-DubaiEnglishSpeakingSchool%26College/Python/computer_science_classwork.ipynb#W1sZmlsZQ%3D%3D?line=6'>7</a>\u001b[0m \u001b[39mwhile\u001b[39;00m userNum \u001b[39m!=\u001b[39m targetNum:\n\u001b[1;32m      <a href='vscode-notebook-cell:/Users/manavcodaty/Library/CloudStorage/OneDrive-DubaiEnglishSpeakingSchool%26College/Python/computer_science_classwork.ipynb#W1sZmlsZQ%3D%3D?line=7'>8</a>\u001b[0m     userNum \u001b[39m=\u001b[39m \u001b[39mint\u001b[39m(\u001b[39minput\u001b[39m(\u001b[39m\"\u001b[39m\u001b[39mEnter your guess\u001b[39m\u001b[39m\"\u001b[39m))\n\u001b[1;32m      <a href='vscode-notebook-cell:/Users/manavcodaty/Library/CloudStorage/OneDrive-DubaiEnglishSpeakingSchool%26College/Python/computer_science_classwork.ipynb#W1sZmlsZQ%3D%3D?line=8'>9</a>\u001b[0m     \u001b[39mif\u001b[39;00m userNum \u001b[39m==\u001b[39m targetNum:\n",
      "\u001b[0;31mNameError\u001b[0m: name 'userNum' is not defined"
     ]
    }
   ],
   "source": [
    "#Higher or lower program\n",
    "import random\n",
    "\n",
    "targetNum = random.randint(1,100)\n",
    "userNum = 0\n",
    " \n",
    "while userNum != targetNum:\n",
    "    userNum = int(input(\"Enter your guess\"))\n",
    "    if userNum == targetNum:\n",
    "        print(\"Thats the correct number\")\n",
    "    elif userNum > targetNum:\n",
    "     print(\"Too high\")\n",
    "    elif targetNum > userNum:\n",
    "        print(\"Too low\")\n",
    "    else: break"
   ]
  },
  {
   "cell_type": "code",
   "execution_count": 7,
   "metadata": {},
   "outputs": [
    {
     "name": "stdout",
     "output_type": "stream",
     "text": [
      "Hyundai\n"
     ]
    }
   ],
   "source": [
    "#search through array\n",
    "\n",
    "\n",
    "userNumber = int(input(\"Input number from 1-7\"))\n",
    "\n",
    "\n",
    "user = userNumber - 1\n",
    "\n",
    "\n",
    "list = [\"BMW\", \"Audi\", \"Mercedes\", \"Dodge\", \"Ram\", \"VW\", \"Hyundai\",]\n",
    "\n",
    "for i in range(len(list)):\n",
    "    if i == user:\n",
    "        print(list[i])\n",
    "    \n",
    "    \n",
    "    "
   ]
  },
  {
   "cell_type": "code",
   "execution_count": 2,
   "metadata": {},
   "outputs": [
    {
     "name": "stdout",
     "output_type": "stream",
     "text": [
      "32\n"
     ]
    }
   ],
   "source": [
    "#smallest and largest values\n",
    "\n",
    "numbers =[6,7,3,10,32,21,2]\n",
    "def largest ():\n",
    "    global largest1\n",
    "    largest1 = 0\n",
    "    i = 0\n",
    "    while i < len(numbers):\n",
    "        if numbers[i] > largest1:\n",
    "            largest1 = numbers[i]\n",
    "        i = i + 1\n",
    "\n",
    "def output():\n",
    "    largest()\n",
    "    print (largest1)\n",
    "output()\n",
    "  \n"
   ]
  },
  {
   "cell_type": "code",
   "execution_count": 7,
   "metadata": {},
   "outputs": [
    {
     "name": "stdout",
     "output_type": "stream",
     "text": [
      "Reversed string: renniks rm\n"
     ]
    }
   ],
   "source": [
    "def reverse_string(input_string):\n",
    "    reversed_str = \"\"\n",
    "    for char in input_string:\n",
    "        reversed_str = char + reversed_str\n",
    "    return reversed_str\n",
    "\n",
    "input_str = input(\"Enter a string: \")\n",
    "reversed_result = reverse_string(input_str)\n",
    "print(\"Reversed string:\", reversed_result)"
   ]
  },
  {
   "cell_type": "code",
   "execution_count": null,
   "metadata": {},
   "outputs": [],
   "source": [
    "#linear search\n",
    "\n",
    "\n",
    "killers = [\"Bert\", \"Sam\", \"Sue\", \"Fiona\", \"Dave\", \"Pete\", \"Charlotte\", \"Martin\"]\n",
    "\n",
    "name = input(\"Enter a name\")\n",
    "\n",
    "for i in len(killers):\n",
    "    if name == killers[i]:\n",
    "        print(\"Found\")\n",
    "    else:\n",
    "        print(\"Not found\")"
   ]
  }
 ],
 "metadata": {
  "kernelspec": {
   "display_name": "Python 3",
   "language": "python",
   "name": "python3"
  },
  "language_info": {
   "codemirror_mode": {
    "name": "ipython",
    "version": 3
   },
   "file_extension": ".py",
   "mimetype": "text/x-python",
   "name": "python",
   "nbconvert_exporter": "python",
   "pygments_lexer": "ipython3",
   "version": "3.11.3"
  }
 },
 "nbformat": 4,
 "nbformat_minor": 2
}
