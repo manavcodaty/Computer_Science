{
 "cells": [
  {
   "cell_type": "code",
   "execution_count": null,
   "metadata": {},
   "outputs": [],
   "source": [
    "#maximum of 3 numbers\n",
    "num1 = int(input(\"Input first number\"))\n",
    "num2 = int(input(\"Input second number\"))\n",
    "num3 = int(input(\"Input third number\"))\n",
    "\n",
    "\n",
    "if num1 > num2 and num1 > num3:\n",
    "    print(f\"{num1} is the biggest\")\n",
    "elif num2 > num1 and num2 > num3:\n",
    "    print(f\"{num2} is the biggest\")\n",
    "elif num3 > num1 and num3 > num2:\n",
    "    print(f\"{num3} is the biggest\")\n",
    "        \n",
    "    "
   ]
  },
  {
   "cell_type": "code",
   "execution_count": null,
   "metadata": {},
   "outputs": [],
   "source": [
    "#Higher or lower program\n",
    "import random\n",
    "\n",
    "targetNum = random.randint(1,100)\n",
    "userNum = 0\n",
    " \n",
    "while userNum != targetNum:\n",
    "    userNum = int(input(\"Enter your guess\"))\n",
    "    if userNum == targetNum:\n",
    "        print(\"Thats the correct number\")\n",
    "    elif userNum > targetNum:\n",
    "     print(\"Too high\")\n",
    "    elif targetNum > userNum:\n",
    "        print(\"Too low\")\n",
    "    else: break"
   ]
  },
  {
   "cell_type": "code",
   "execution_count": null,
   "metadata": {},
   "outputs": [],
   "source": [
    "#search through array\n",
    "\n",
    "\n",
    "userNumber = int(input(\"Input number from 1-7\"))\n",
    "\n",
    "\n",
    "user = userNumber - 1\n",
    "\n",
    "\n",
    "list = [\"BMW\", \"Audi\", \"Mercedes\", \"Dodge\", \"Ram\", \"VW\", \"Hyundai\",]\n",
    "\n",
    "for i in range(len(list)):\n",
    "    if i == user:\n",
    "        print(list[i])\n",
    "    \n",
    "    \n",
    "    "
   ]
  },
  {
   "cell_type": "code",
   "execution_count": null,
   "metadata": {},
   "outputs": [],
   "source": [
    "#smallest and largest values\n",
    "\n",
    "numbers =[6,7,3,10,32,21,2]\n",
    "def largest ():\n",
    "    global largest1\n",
    "    largest1 = 0\n",
    "    i = 0\n",
    "    while i < len(numbers):\n",
    "        if numbers[i] > largest1:\n",
    "            largest1 = numbers[i]\n",
    "        i = i + 1\n",
    "\n",
    "def output():\n",
    "    largest()\n",
    "    print (largest1)\n",
    "output()\n",
    "  \n"
   ]
  },
  {
   "cell_type": "code",
   "execution_count": null,
   "metadata": {},
   "outputs": [],
   "source": [
    "def reverse_string(input_string):\n",
    "    reversed_str = \"\"\n",
    "    for char in input_string:\n",
    "        reversed_str = char + reversed_str\n",
    "    return reversed_str\n",
    "\n",
    "input_str = input(\"Enter a string: \")\n",
    "reversed_result = reverse_string(input_str)\n",
    "print(\"Reversed string:\", reversed_result)"
   ]
  },
  {
   "cell_type": "code",
   "execution_count": null,
   "metadata": {},
   "outputs": [],
   "source": [
    "#linear search\n",
    "\n",
    "\n",
    "killers = [\"Bert\", \"Sam\", \"Sue\", \"Fiona\", \"Dave\", \"Pete\", \"Charlotte\", \"Martin\"]\n",
    "\n",
    "name = input(\"Enter a name\")\n",
    "\n",
    "for i in len(killers):\n",
    "    if name == killers[i]:\n",
    "        print(\"Found\")\n",
    "    else:\n",
    "        print(\"Not found\")"
   ]
  },
  {
   "cell_type": "code",
   "execution_count": null,
   "metadata": {},
   "outputs": [],
   "source": [
    "stats = [[450,21,5],[800,45,8],[390,11,4]]\n",
    "name = [\"Messi\", \"Ronaldo\", \"Neymar\"]\n",
    "\n",
    "for i in range(len(stats)):\n",
    "    print(name[i])\n",
    "    for j in range(len(stats[i])):\n",
    "        print(stats[i][j])"
   ]
  },
  {
   "cell_type": "code",
   "execution_count": null,
   "metadata": {},
   "outputs": [],
   "source": [
    "names = [\"Messi\", \"Ronaldo\", \"Kane\"]\n",
    "stats = [[450, 800, 390],\n",
    "         [21, 45, 11],\n",
    "         [5, 8, 4]]\n",
    "count = 0\n",
    " \n",
    "while count < len(names):\n",
    "    print(\"Name: \" + (names[count]))\n",
    "    print(\"Total Career Goals: \" + str(stats[0][count]))\n",
    "    print(\"Total Career Yellow Cards: \" + str(stats[1][count]))\n",
    "    print(\"Total Career Red Cards: \" + str(stats[2][count]))\n",
    "    count = count + 1"
   ]
  },
  {
   "cell_type": "code",
   "execution_count": 3,
   "metadata": {},
   "outputs": [],
   "source": [
    "food=[\"Milk\",\"Cheese\",\"Apples\",\"Bread\",\"Bananas\"] \n",
    "arraySize=len(food)\n",
    "\n",
    "input = input(\"Enter a food item\")\n",
    "\n",
    "for i in range(arraySize):\n",
    "    if input == food[i]:\n",
    "        print(\"Found\")\n",
    "    else:\n",
    "        print(\"Not found\") "
   ]
  },
  {
   "cell_type": "code",
   "execution_count": 5,
   "metadata": {},
   "outputs": [
    {
     "name": "stdout",
     "output_type": "stream",
     "text": [
      "[3, 2, 1, 4, 11, 5, 12]\n"
     ]
    }
   ],
   "source": [
    "numbers = [4,3,2,1,12,11,5] \n",
    "arraySize = len(numbers)\n",
    "\n",
    "for i in range(arraySize-1):\n",
    "    if numbers[i] > numbers[i+1]:\n",
    "        temp = numbers[i]\n",
    "        numbers[i] = numbers[i+1]\n",
    "        numbers[i+1] = temp\n",
    "\n",
    "print(numbers)\n",
    "        \n",
    "        "
   ]
  },
  {
   "cell_type": "markdown",
   "metadata": {},
   "source": []
  }
 ],
 "metadata": {
  "kernelspec": {
   "display_name": "Python 3",
   "language": "python",
   "name": "python3"
  },
  "language_info": {
   "codemirror_mode": {
    "name": "ipython",
    "version": 3
   },
   "file_extension": ".py",
   "mimetype": "text/x-python",
   "name": "python",
   "nbconvert_exporter": "python",
   "pygments_lexer": "ipython3",
   "version": "3.12.5"
  }
 },
 "nbformat": 4,
 "nbformat_minor": 2
}
