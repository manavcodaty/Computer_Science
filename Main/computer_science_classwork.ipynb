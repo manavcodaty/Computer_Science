{
 "cells": [
  {
   "cell_type": "code",
   "execution_count": null,
   "metadata": {},
   "outputs": [],
   "source": [
    "#maximum of 3 numbers\n",
    "num1 = int(input(\"Input first number\"))\n",
    "num2 = int(input(\"Input second number\"))\n",
    "num3 = int(input(\"Input third number\"))\n",
    "\n",
    "\n",
    "if num1 > num2 and num1 > num3:\n",
    "    print(f\"{num1} is the biggest\")\n",
    "elif num2 > num1 and num2 > num3:\n",
    "    print(f\"{num2} is the biggest\")\n",
    "elif num3 > num1 and num3 > num2:\n",
    "    print(f\"{num3} is the biggest\")\n",
    "        \n",
    "    "
   ]
  },
  {
   "cell_type": "code",
   "execution_count": null,
   "metadata": {},
   "outputs": [],
   "source": [
    "#Higher or lower program\n",
    "import random\n",
    "\n",
    "targetNum = random.randint(1,100)\n",
    "userNum = 0\n",
    " \n",
    "while userNum != targetNum:\n",
    "    userNum = int(input(\"Enter your guess\"))\n",
    "    if userNum == targetNum:\n",
    "        print(\"Thats the correct number\")\n",
    "    elif userNum > targetNum:\n",
    "     print(\"Too high\")\n",
    "    elif targetNum > userNum:\n",
    "        print(\"Too low\")\n",
    "    else: break"
   ]
  },
  {
   "cell_type": "code",
   "execution_count": null,
   "metadata": {},
   "outputs": [],
   "source": [
    "#search through array\n",
    "\n",
    "\n",
    "userNumber = int(input(\"Input number from 1-7\"))\n",
    "\n",
    "\n",
    "user = userNumber - 1\n",
    "\n",
    "\n",
    "list = [\"BMW\", \"Audi\", \"Mercedes\", \"Dodge\", \"Ram\", \"VW\", \"Hyundai\",]\n",
    "\n",
    "for i in range(len(list)):\n",
    "    if i == user:\n",
    "        print(list[i])\n",
    "    \n",
    "    \n",
    "    "
   ]
  },
  {
   "cell_type": "code",
   "execution_count": null,
   "metadata": {},
   "outputs": [],
   "source": [
    "#smallest and largest values\n",
    "\n",
    "numbers =[6,7,3,10,32,21,2]\n",
    "def largest ():\n",
    "    global largest1\n",
    "    largest1 = 0\n",
    "    i = 0\n",
    "    while i < len(numbers):\n",
    "        if numbers[i] > largest1:\n",
    "            largest1 = numbers[i]\n",
    "        i = i + 1\n",
    "\n",
    "def output():\n",
    "    largest()\n",
    "    print (largest1)\n",
    "output()\n",
    "  \n"
   ]
  },
  {
   "cell_type": "code",
   "execution_count": null,
   "metadata": {},
   "outputs": [],
   "source": [
    "def reverse_string(input_string):\n",
    "    reversed_str = \"\"\n",
    "    for char in input_string:\n",
    "        reversed_str = char + reversed_str\n",
    "    return reversed_str\n",
    "\n",
    "input_str = input(\"Enter a string: \")\n",
    "reversed_result = reverse_string(input_str)\n",
    "print(\"Reversed string:\", reversed_result)"
   ]
  },
  {
   "cell_type": "code",
   "execution_count": null,
   "metadata": {},
   "outputs": [],
   "source": [
    "#linear search\n",
    "\n",
    "\n",
    "killers = [\"Bert\", \"Sam\", \"Sue\", \"Fiona\", \"Dave\", \"Pete\", \"Charlotte\", \"Martin\"]\n",
    "\n",
    "name = input(\"Enter a name\")\n",
    "\n",
    "for i in len(killers):\n",
    "    if name == killers[i]:\n",
    "        print(\"Found\")\n",
    "    else:\n",
    "        print(\"Not found\")"
   ]
  },
  {
   "cell_type": "code",
   "execution_count": null,
   "metadata": {},
   "outputs": [],
   "source": [
    "stats = [[450,21,5],[800,45,8],[390,11,4]]\n",
    "name = [\"Messi\", \"Ronaldo\", \"Neymar\"]\n",
    "\n",
    "for i in range(len(stats)):\n",
    "    print(name[i])\n",
    "    for j in range(len(stats[i])):\n",
    "        print(stats[i][j])"
   ]
  },
  {
   "cell_type": "code",
   "execution_count": null,
   "metadata": {},
   "outputs": [],
   "source": [
    "names = [\"Messi\", \"Ronaldo\", \"Kane\"]\n",
    "stats = [[450, 800, 390],\n",
    "         [21, 45, 11],\n",
    "         [5, 8, 4]]\n",
    "count = 0\n",
    " \n",
    "while count < len(names):\n",
    "    print(\"Name: \" + (names[count]))\n",
    "    print(\"Total Career Goals: \" + str(stats[0][count]))\n",
    "    print(\"Total Career Yellow Cards: \" + str(stats[1][count]))\n",
    "    print(\"Total Career Red Cards: \" + str(stats[2][count]))\n",
    "    count = count + 1"
   ]
  },
  {
   "cell_type": "code",
   "execution_count": null,
   "metadata": {},
   "outputs": [],
   "source": [
    "food=[\"Milk\",\"Cheese\",\"Apples\",\"Bread\",\"Bananas\"] \n",
    "arraySize=len(food)\n",
    "\n",
    "input = input(\"Enter a food item\")\n",
    "\n",
    "for i in range(arraySize):\n",
    "    if input == food[i]:\n",
    "        print(\"Found\")\n",
    "    else:\n",
    "        print(\"Not found\") "
   ]
  },
  {
   "cell_type": "code",
   "execution_count": null,
   "metadata": {},
   "outputs": [],
   "source": [
    "numbers = [4,3,2,1,12,11,5] \n",
    "arraySize = len(numbers)\n",
    "\n",
    "for i in range(arraySize-1):\n",
    "    if numbers[i] > numbers[i+1]:\n",
    "        temp = numbers[i]\n",
    "        numbers[i] = numbers[i+1]\n",
    "        numbers[i+1] = temp\n",
    "\n",
    "print(numbers)\n",
    "        \n",
    "        "
   ]
  },
  {
   "cell_type": "code",
   "execution_count": 6,
   "metadata": {},
   "outputs": [
    {
     "name": "stdout",
     "output_type": "stream",
     "text": [
      "[[3, 1, 1, 10], [4, 0, 1, 12], [2, 2, 1, 8], [1, 3, 1, 6], [5, 0, 0, 15], [2, 1, 2, 7], [0, 5, 0, 5], [3, 2, 0, 11], [1, 1, 3, 4], [0, 3, 2, 3]]\n"
     ]
    }
   ],
   "source": [
    "def bubbleSort(arr):\n",
    "    swap = None\n",
    "    for i in range(len(arr)-1):\n",
    "        if arr[i][3] < arr[i+1][3]:\n",
    "            swap = arr[i]\n",
    "            arr[i] = arr[i+1]\n",
    "            arr[i+1] = swap\n",
    "    \n",
    "    return arr\n",
    "\n",
    "arr =  [\n",
    "    # W, D, L, Pts\n",
    "    [3, 1, 1, 10],  # Lions: 3*3 + 1*1 = 10\n",
    "    [2, 2, 1, 8],   # Tigers: 2*3 + 2*1 = 8\n",
    "    [4, 0, 1, 12],  # Bears: 4*3 + 0*1 = 12\n",
    "    [1, 3, 1, 6],   # Eagles: 1*3 + 3*1 = 6\n",
    "    [0, 5, 0, 5],   # Sharks: 0*3 + 5*1 = 5\n",
    "    [5, 0, 0, 15],  # Wolves: 5*3 + 0*1 = 15\n",
    "    [2, 1, 2, 7],   # Panthers: 2*3 + 1*1 = 7\n",
    "    [1, 1, 3, 4],   # Dragons: 1*3 + 1*1 = 4\n",
    "    [3, 2, 0, 11],  # Hawks: 3*3 + 2*1 = 11\n",
    "    [0, 3, 2, 3]   # Cobras: 0*3 + 3*1 = 3\n",
    "]\n",
    "\n",
    "bubbleSort(arr)\n",
    "print(arr)\n",
    "    "
   ]
  },
  {
   "cell_type": "code",
   "execution_count": null,
   "metadata": {},
   "outputs": [],
   "source": [
    "def bubbleSort(arr):\n",
    "    n = len(arr)\n",
    "    # Traverse through all array elements\n",
    "    for i in range(n):\n",
    "        swapped = False # Flag for optimization\n",
    "        # Last i elements are already in place\n",
    "        for j in range(0, n-i-1):\n",
    "            # Compare points (index 3) for descending order\n",
    "            if arr[j][3] < arr[j+1][3]:\n",
    "                # Swap elements\n",
    "                arr[j], arr[j+1] = arr[j+1], arr[j]\n",
    "                swapped = True\n",
    "        # If no two elements were swapped in the inner loop, the array is sorted\n",
    "        if not swapped:\n",
    "            break\n",
    "    return arr\n",
    "\n",
    "# The 'arr' variable is already defined in the notebook from a previous cell.\n",
    "# We will sort it using the corrected bubble sort function.\n",
    "\n",
    "# Sort the array\n",
    "sorted_arr = bubbleSort(arr)\n",
    "\n",
    "# Print the sorted array\n",
    "print(\"Sorted array by points (descending):\")\n",
    "for row in sorted_arr:\n",
    "    print(row)"
   ]
  }
 ],
 "metadata": {
  "kernelspec": {
   "display_name": "Python 3",
   "language": "python",
   "name": "python3"
  },
  "language_info": {
   "codemirror_mode": {
    "name": "ipython",
    "version": 3
   },
   "file_extension": ".py",
   "mimetype": "text/x-python",
   "name": "python",
   "nbconvert_exporter": "python",
   "pygments_lexer": "ipython3",
   "version": "3.12.1"
  }
 },
 "nbformat": 4,
 "nbformat_minor": 2
}
