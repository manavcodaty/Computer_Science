{
 "cells": [
  {
   "cell_type": "code",
   "execution_count": 1,
   "metadata": {},
   "outputs": [
    {
     "name": "stdout",
     "output_type": "stream",
     "text": [
      "too small!\n",
      "too small!\n",
      "too small!\n",
      "You are within 5!\n",
      "too big!\n",
      "You are within 5!\n",
      "too small!\n",
      "You are within 5!\n",
      "correct!\n",
      "You are within 5!\n"
     ]
    },
    {
     "data": {
      "text/plain": [
       "' \\nExtension \\nCan you add code which will tell them if they are within 5?\\n\\nFor example, if the secret number was 48 and I guessed 45, then it will say \"You are within 5!\"\\n\\nIf I guess 31 however, it will just say \"too small!\"\\n'"
      ]
     },
     "execution_count": 1,
     "metadata": {},
     "output_type": "execute_result"
    }
   ],
   "source": [
    "#Validation and Verfication\n",
    "#Task 1\n",
    "import random\n",
    "secretNumber = random.randint(1, 100)\n",
    "lives = 8\n",
    "correct = False\n",
    "# Q1 - Write a comment explaining the while loop below in words.\n",
    "# A while loop is a loop that runs the code inside the while loop until the condition is false. In this case, the loop will run until the correct variable is true or the lives variable is 0.\n",
    "while lives > 0 and correct == False:\n",
    "    guess = int(input(\"Make a guess between 1 and 100.\"))\n",
    "    # Task 2 - Write some validation code which checks the number is between 1 and 100.\n",
    "    if secretNumber <= 1 or secretNumber >= 100:\n",
    "        print(\"Please enter a number between 1 and 100.\")\n",
    "    if guess > secretNumber:\n",
    "        print(\"too big!\")\n",
    "        lives = lives - 1\n",
    "    elif guess < secretNumber:\n",
    "        print(\"too small!\")\n",
    "        lives = lives - 1\n",
    "    else:\n",
    "        print(\"correct!\")\n",
    "        correct = True\n",
    "    if lives == 0:\n",
    "        print(\"You lost!\")\n",
    "    if guess >= secretNumber - 5 and guess <= secretNumber + 5 and correct == False:\n",
    "        print(\"You are within 5!\")\n",
    "\n",
    "# Q3 - it should say \"you lost\" when you run out of lives.\n",
    "\n",
    "\"\"\" \n",
    "Extension \n",
    "Can you add code which will tell them if they are within 5?\n",
    "\n",
    "For example, if the secret number was 48 and I guessed 45, then it will say \"You are within 5!\"\n",
    "\n",
    "If I guess 31 however, it will just say \"too small!\"\n",
    "\"\"\""
   ]
  },
  {
   "cell_type": "code",
   "execution_count": 3,
   "metadata": {},
   "outputs": [
    {
     "name": "stdout",
     "output_type": "stream",
     "text": [
      "What is the capital of France?\n",
      "Correct!\n"
     ]
    }
   ],
   "source": [
    "question = \"What is the capital of France?\"\n",
    "a_answer = \"a) Paris.\"\n",
    "b_answer = \"b) Spain.\"\n",
    "c_answer = \"c) Canada.\"\n",
    "d_answer = \"d) Dubai.\"\n",
    "\n",
    "\n",
    "print(question)\n",
    "answer = input(\"What is your answer?\")\n",
    "\n",
    "if answer == \" \":\n",
    "    print(\"Please enter an answer.\")\n",
    "\n",
    "if answer.lower() == \"a\":\n",
    "    print(\"Correct!\")\n",
    "\n",
    "# Q1 - Change the above question to something interesting.\n",
    "# Display the question.\n",
    "\n",
    "# Q2 - ask for the answer\n",
    "# and store it into a variable.\n",
    "\n",
    "# Q3 - Validate the input to ensure that something was entered.\n",
    "\n",
    "# Q4 - Display \"correct\" if the answer was correct and \"incorrect\" if it was not."
   ]
  },
  {
   "cell_type": "code",
   "execution_count": null,
   "metadata": {},
   "outputs": [],
   "source": [
    "def create_password():\n",
    "    password = input(\"Please enter your new password: \")\n",
    "    confirm_password = input(\"Please re-enter your new password: \")\n",
    "\n",
    "    if password == confirm_password:\n",
    "        print(\"Password successfully created!\")\n",
    "    else:\n",
    "        print(\"Passwords do not match. Please try again.\")\n",
    "        create_password()\n",
    "\n",
    "create_password()"
   ]
  }
 ],
 "metadata": {
  "kernelspec": {
   "display_name": "Python 3",
   "language": "python",
   "name": "python3"
  },
  "language_info": {
   "codemirror_mode": {
    "name": "ipython",
    "version": 3
   },
   "file_extension": ".py",
   "mimetype": "text/x-python",
   "name": "python",
   "nbconvert_exporter": "python",
   "pygments_lexer": "ipython3",
   "version": "3.11.3"
  }
 },
 "nbformat": 4,
 "nbformat_minor": 2
}
